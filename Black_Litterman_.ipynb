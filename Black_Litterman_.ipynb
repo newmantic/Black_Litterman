{
  "nbformat": 4,
  "nbformat_minor": 0,
  "metadata": {
    "colab": {
      "provenance": [],
      "authorship_tag": "ABX9TyPnAkw41qvP+ojucHKCD99B",
      "include_colab_link": true
    },
    "kernelspec": {
      "name": "python3",
      "display_name": "Python 3"
    },
    "language_info": {
      "name": "python"
    }
  },
  "cells": [
    {
      "cell_type": "markdown",
      "metadata": {
        "id": "view-in-github",
        "colab_type": "text"
      },
      "source": [
        "<a href=\"https://colab.research.google.com/github/newmantic/Black_Litterman/blob/main/Black_Litterman_.ipynb\" target=\"_parent\"><img src=\"https://colab.research.google.com/assets/colab-badge.svg\" alt=\"Open In Colab\"/></a>"
      ]
    },
    {
      "cell_type": "code",
      "execution_count": 1,
      "metadata": {
        "colab": {
          "base_uri": "https://localhost:8080/"
        },
        "id": "fScG3Cpx64L1",
        "outputId": "9f08909f-1aa0-445d-9965-eb2dad010479"
      },
      "outputs": [
        {
          "output_type": "stream",
          "name": "stdout",
          "text": [
            "Implied Equilibrium Returns (Pi): [0.0006 0.0222 0.0237]\n",
            "Black-Litterman Expected Returns (mu): [ 0.00408515 -0.00355426 -0.03367581]\n",
            "Optimal Portfolio Weights: [ 1.41991998  0.28987155 -0.70979154]\n"
          ]
        }
      ],
      "source": [
        "import numpy as np\n",
        "import pandas as pd\n",
        "from scipy.optimize import minimize\n",
        "\n",
        "def calculate_implied_returns(cov_matrix, market_weights, risk_aversion):\n",
        "    \"\"\"\n",
        "    Calculate the implied equilibrium excess returns.\n",
        "\n",
        "    :param cov_matrix: Covariance matrix of asset returns\n",
        "    :param market_weights: Market capitalization weights vector\n",
        "    :param risk_aversion: Risk aversion coefficient (lambda)\n",
        "    :return: Implied equilibrium returns vector (Pi)\n",
        "    \"\"\"\n",
        "    return risk_aversion * np.dot(cov_matrix, market_weights)\n",
        "\n",
        "def black_litterman_expected_returns(implied_returns, cov_matrix, tau, P, Q, omega):\n",
        "    \"\"\"\n",
        "    Calculate the Black-Litterman expected returns incorporating investor views.\n",
        "\n",
        "    :param implied_returns: Implied equilibrium returns vector (Pi)\n",
        "    :param cov_matrix: Covariance matrix of asset returns (Sigma)\n",
        "    :param tau: Scalar reflecting uncertainty in prior estimate of mean returns\n",
        "    :param P: Matrix representing investor views (linking views to assets)\n",
        "    :param Q: Vector of expected returns from investor views\n",
        "    :param omega: Diagonal covariance matrix of error terms in investor views\n",
        "    :return: New expected returns vector (mu)\n",
        "    \"\"\"\n",
        "    M_inverse = np.linalg.inv(np.dot(np.dot(P, tau * cov_matrix), P.T) + omega)\n",
        "    adj_returns = np.dot(tau * cov_matrix, np.dot(P.T, np.dot(M_inverse, Q - np.dot(P, implied_returns))))\n",
        "    return implied_returns + adj_returns\n",
        "\n",
        "def optimize_portfolio(expected_returns, cov_matrix, risk_aversion):\n",
        "    \"\"\"\n",
        "    Optimize the portfolio weights using mean-variance optimization.\n",
        "\n",
        "    :param expected_returns: New expected returns vector (mu)\n",
        "    :param cov_matrix: Covariance matrix of asset returns (Sigma)\n",
        "    :param risk_aversion: Risk aversion coefficient (lambda)\n",
        "    :return: Optimal portfolio weights (w*)\n",
        "    \"\"\"\n",
        "    return np.dot(np.linalg.inv(cov_matrix), expected_returns) / risk_aversion\n",
        "\n",
        "# Testable Example\n",
        "\n",
        "# Covariance matrix of 3 assets\n",
        "cov_matrix = np.array([[0.005, -0.010, 0.004],\n",
        "                       [-0.010, 0.040, -0.002],\n",
        "                       [0.004, -0.002, 0.023]])\n",
        "\n",
        "# Market capitalization weights (as percentages)\n",
        "market_weights = np.array([0.4, 0.3, 0.3])\n",
        "\n",
        "# Risk aversion coefficient (lambda)\n",
        "risk_aversion = 3.0\n",
        "\n",
        "# Calculate implied equilibrium returns (Pi)\n",
        "implied_returns = calculate_implied_returns(cov_matrix, market_weights, risk_aversion)\n",
        "print(f\"Implied Equilibrium Returns (Pi): {implied_returns}\")\n",
        "\n",
        "# Investor views: P matrix and Q vector\n",
        "P = np.array([[1, 0, -1],  # View: Asset 1 will outperform Asset 3\n",
        "              [0, 1, -1]])  # View: Asset 2 will outperform Asset 3\n",
        "Q = np.array([0.05, 0.03])  # Investor expects a 5% return difference for View 1, and 3% for View 2\n",
        "\n",
        "# Omega: Uncertainty in investor views\n",
        "omega = np.diag([0.0001, 0.0001])\n",
        "\n",
        "# Scalar tau\n",
        "tau = 0.025\n",
        "\n",
        "# Calculate Black-Litterman expected returns\n",
        "bl_expected_returns = black_litterman_expected_returns(implied_returns, cov_matrix, tau, P, Q, omega)\n",
        "print(f\"Black-Litterman Expected Returns (mu): {bl_expected_returns}\")\n",
        "\n",
        "# Optimize the portfolio weights\n",
        "optimal_weights = optimize_portfolio(bl_expected_returns, cov_matrix, risk_aversion)\n",
        "print(f\"Optimal Portfolio Weights: {optimal_weights}\")"
      ]
    }
  ]
}